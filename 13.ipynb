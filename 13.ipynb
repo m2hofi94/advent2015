{
 "cells": [
  {
   "cell_type": "code",
   "execution_count": 31,
   "metadata": {},
   "outputs": [],
   "source": [
    "%run util.ipynb\n",
    "import itertools"
   ]
  },
  {
   "cell_type": "code",
   "execution_count": 49,
   "metadata": {},
   "outputs": [],
   "source": [
    "test = get_puzzle(13)"
   ]
  },
  {
   "cell_type": "code",
   "execution_count": 41,
   "metadata": {},
   "outputs": [],
   "source": [
    "test = \"\"\"Alice would gain 54 happiness units by sitting next to Bob.\n",
    "Alice would lose 79 happiness units by sitting next to Carol.\n",
    "Alice would lose 2 happiness units by sitting next to David.\n",
    "Bob would gain 83 happiness units by sitting next to Alice.\n",
    "Bob would lose 7 happiness units by sitting next to Carol.\n",
    "Bob would lose 63 happiness units by sitting next to David.\n",
    "Carol would lose 62 happiness units by sitting next to Alice.\n",
    "Carol would gain 60 happiness units by sitting next to Bob.\n",
    "Carol would gain 55 happiness units by sitting next to David.\n",
    "David would gain 46 happiness units by sitting next to Alice.\n",
    "David would lose 7 happiness units by sitting next to Bob.\n",
    "David would gain 41 happiness units by sitting next to Carol.\"\"\".split('\\n')"
   ]
  },
  {
   "cell_type": "code",
   "execution_count": 50,
   "metadata": {},
   "outputs": [],
   "source": [
    "test = [t.split(' ') for t in test]\n",
    "test = [(t[0], {'gain':1,'lose':-1}[t[2]]*int(t[3]), t[-1][:-1]) for t in test]\n",
    "\n",
    "prefs = defaultdict(int)\n",
    "for a,b,c in test:\n",
    "    prefs[(a,c)]=b"
   ]
  },
  {
   "cell_type": "code",
   "execution_count": 51,
   "metadata": {},
   "outputs": [
    {
     "data": {
      "text/plain": [
       "defaultdict(int,\n",
       "            {('Alice', 'Bob'): -2,\n",
       "             ('Alice', 'Carol'): -62,\n",
       "             ('Alice', 'David'): 65,\n",
       "             ('Alice', 'Eric'): 21,\n",
       "             ('Alice', 'Frank'): -81,\n",
       "             ('Alice', 'George'): -4,\n",
       "             ('Alice', 'Mallory'): -80,\n",
       "             ('Bob', 'Alice'): 93,\n",
       "             ('Bob', 'Carol'): 19,\n",
       "             ('Bob', 'David'): 5,\n",
       "             ('Bob', 'Eric'): 49,\n",
       "             ('Bob', 'Frank'): 68,\n",
       "             ('Bob', 'George'): 23,\n",
       "             ('Bob', 'Mallory'): 29,\n",
       "             ('Carol', 'Alice'): -54,\n",
       "             ('Carol', 'Bob'): -70,\n",
       "             ('Carol', 'David'): -37,\n",
       "             ('Carol', 'Eric'): -46,\n",
       "             ('Carol', 'Frank'): 33,\n",
       "             ('Carol', 'George'): -35,\n",
       "             ('Carol', 'Mallory'): 10,\n",
       "             ('David', 'Alice'): 43,\n",
       "             ('David', 'Bob'): -96,\n",
       "             ('David', 'Carol'): -53,\n",
       "             ('David', 'Eric'): -30,\n",
       "             ('David', 'Frank'): -12,\n",
       "             ('David', 'George'): 75,\n",
       "             ('David', 'Mallory'): -20,\n",
       "             ('Eric', 'Alice'): 8,\n",
       "             ('Eric', 'Bob'): -89,\n",
       "             ('Eric', 'Carol'): -69,\n",
       "             ('Eric', 'David'): -34,\n",
       "             ('Eric', 'Frank'): 95,\n",
       "             ('Eric', 'George'): 34,\n",
       "             ('Eric', 'Mallory'): -99,\n",
       "             ('Frank', 'Alice'): -97,\n",
       "             ('Frank', 'Bob'): 6,\n",
       "             ('Frank', 'Carol'): -9,\n",
       "             ('Frank', 'David'): 56,\n",
       "             ('Frank', 'Eric'): -17,\n",
       "             ('Frank', 'George'): 18,\n",
       "             ('Frank', 'Mallory'): -56,\n",
       "             ('George', 'Alice'): 45,\n",
       "             ('George', 'Bob'): 76,\n",
       "             ('George', 'Carol'): 63,\n",
       "             ('George', 'David'): 54,\n",
       "             ('George', 'Eric'): 54,\n",
       "             ('George', 'Frank'): 30,\n",
       "             ('George', 'Mallory'): 7,\n",
       "             ('Mallory', 'Alice'): 31,\n",
       "             ('Mallory', 'Bob'): -32,\n",
       "             ('Mallory', 'Carol'): 95,\n",
       "             ('Mallory', 'David'): 91,\n",
       "             ('Mallory', 'Eric'): -66,\n",
       "             ('Mallory', 'Frank'): -75,\n",
       "             ('Mallory', 'George'): -99})"
      ]
     },
     "execution_count": 51,
     "metadata": {},
     "output_type": "execute_result"
    }
   ],
   "source": [
    "prefs"
   ]
  },
  {
   "cell_type": "code",
   "execution_count": 55,
   "metadata": {},
   "outputs": [
    {
     "data": {
      "text/plain": [
       "664"
      ]
     },
     "execution_count": 55,
     "metadata": {},
     "output_type": "execute_result"
    }
   ],
   "source": [
    "ppl = set(t[0] for t in test)\n",
    "l = len(ppl)\n",
    "res = []\n",
    "for c in itertools.permutations(ppl, l):\n",
    "    s = 0\n",
    "    for i in range(l):\n",
    "        s += prefs[(c[i],c[i-1])]\n",
    "        s += prefs[c[i],c[(i+1)%l]]\n",
    "    res.append(s)\n",
    "    \n",
    "max(res)"
   ]
  },
  {
   "cell_type": "markdown",
   "metadata": {},
   "source": [
    "# Part 2"
   ]
  },
  {
   "cell_type": "code",
   "execution_count": 61,
   "metadata": {},
   "outputs": [],
   "source": [
    "ppl = set(t[0] for t in test)\n",
    "for p in ppl:\n",
    "    prefs[('Me', p)] = 0\n",
    "    prefs[(p, 'Me')] = 0\n",
    "    \n",
    "ppl.add('Me')"
   ]
  },
  {
   "cell_type": "code",
   "execution_count": 62,
   "metadata": {},
   "outputs": [
    {
     "data": {
      "text/plain": [
       "640"
      ]
     },
     "execution_count": 62,
     "metadata": {},
     "output_type": "execute_result"
    }
   ],
   "source": [
    "l = len(ppl)\n",
    "res = []\n",
    "for c in itertools.permutations(ppl, l):\n",
    "    s = 0\n",
    "    for i in range(l):\n",
    "        s += prefs[(c[i],c[i-1])]\n",
    "        s += prefs[c[i],c[(i+1)%l]]\n",
    "    res.append(s)\n",
    "    \n",
    "max(res)"
   ]
  },
  {
   "cell_type": "code",
   "execution_count": null,
   "metadata": {},
   "outputs": [],
   "source": []
  }
 ],
 "metadata": {
  "kernelspec": {
   "display_name": "Python 3",
   "language": "python",
   "name": "python3"
  },
  "language_info": {
   "codemirror_mode": {
    "name": "ipython",
    "version": 3
   },
   "file_extension": ".py",
   "mimetype": "text/x-python",
   "name": "python",
   "nbconvert_exporter": "python",
   "pygments_lexer": "ipython3",
   "version": "3.7.5"
  }
 },
 "nbformat": 4,
 "nbformat_minor": 4
}
