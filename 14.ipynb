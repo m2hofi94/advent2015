{
 "cells": [
  {
   "cell_type": "code",
   "execution_count": 26,
   "metadata": {},
   "outputs": [],
   "source": [
    "%run util.ipynb\n",
    "import re"
   ]
  },
  {
   "cell_type": "code",
   "execution_count": 50,
   "metadata": {},
   "outputs": [],
   "source": [
    "test = \"\"\"Comet can fly 14 km/s for 10 seconds, but then must rest for 127 seconds.\n",
    "Dancer can fly 16 km/s for 11 seconds, but then must rest for 162 seconds.\"\"\".split('\\n')\n",
    "\n",
    "test = get_puzzle(14)"
   ]
  },
  {
   "cell_type": "code",
   "execution_count": 51,
   "metadata": {},
   "outputs": [],
   "source": [
    "stats = [list(map(int,re.findall(r'\\d+', t))) for t in test]"
   ]
  },
  {
   "cell_type": "code",
   "execution_count": 52,
   "metadata": {},
   "outputs": [
    {
     "data": {
      "text/plain": [
       "[8, 8, 53]"
      ]
     },
     "execution_count": 52,
     "metadata": {},
     "output_type": "execute_result"
    }
   ],
   "source": [
    "stats[0]"
   ]
  },
  {
   "cell_type": "code",
   "execution_count": 53,
   "metadata": {},
   "outputs": [],
   "source": [
    "distances = defaultdict(int)\n",
    "cooldown = defaultdict(int)\n",
    "flying = defaultdict(int)\n",
    "for i in range(2503):\n",
    "    for deer in range(len(stats)):\n",
    "        if cooldown[deer] < 1:\n",
    "            flying[deer] += 1\n",
    "            distances[deer] += stats[deer][0]\n",
    "        if flying[deer] == stats[deer][1]:\n",
    "            flying[deer] = 0\n",
    "            cooldown[deer] = stats[deer][2]\n",
    "        cooldown[deer] -= 1"
   ]
  },
  {
   "cell_type": "code",
   "execution_count": 54,
   "metadata": {},
   "outputs": [
    {
     "data": {
      "text/plain": [
       "2700"
      ]
     },
     "execution_count": 54,
     "metadata": {},
     "output_type": "execute_result"
    }
   ],
   "source": [
    "max(distances.values())"
   ]
  },
  {
   "cell_type": "code",
   "execution_count": 55,
   "metadata": {},
   "outputs": [
    {
     "data": {
      "text/plain": [
       "defaultdict(int,\n",
       "            {0: 2688,\n",
       "             1: 2548,\n",
       "             2: 2660,\n",
       "             3: 2640,\n",
       "             4: 2700,\n",
       "             5: 2520,\n",
       "             6: 2553,\n",
       "             7: 2592,\n",
       "             8: 2590})"
      ]
     },
     "execution_count": 55,
     "metadata": {},
     "output_type": "execute_result"
    }
   ],
   "source": [
    "distances"
   ]
  },
  {
   "cell_type": "code",
   "execution_count": 32,
   "metadata": {},
   "outputs": [
    {
     "data": {
      "text/plain": [
       "['Vixen can fly 8 km/s for 8 seconds, but then must rest for 53 seconds.',\n",
       " 'Blitzen can fly 13 km/s for 4 seconds, but then must rest for 49 seconds.',\n",
       " 'Rudolph can fly 20 km/s for 7 seconds, but then must rest for 132 seconds.',\n",
       " 'Cupid can fly 12 km/s for 4 seconds, but then must rest for 43 seconds.',\n",
       " 'Donner can fly 9 km/s for 5 seconds, but then must rest for 38 seconds.',\n",
       " 'Dasher can fly 10 km/s for 4 seconds, but then must rest for 37 seconds.',\n",
       " 'Comet can fly 3 km/s for 37 seconds, but then must rest for 76 seconds.',\n",
       " 'Prancer can fly 9 km/s for 12 seconds, but then must rest for 97 seconds.',\n",
       " 'Dancer can fly 37 km/s for 1 seconds, but then must rest for 36 seconds.']"
      ]
     },
     "execution_count": 32,
     "metadata": {},
     "output_type": "execute_result"
    }
   ],
   "source": [
    "test"
   ]
  },
  {
   "cell_type": "code",
   "execution_count": null,
   "metadata": {},
   "outputs": [],
   "source": []
  }
 ],
 "metadata": {
  "kernelspec": {
   "display_name": "Python 3",
   "language": "python",
   "name": "python3"
  },
  "language_info": {
   "codemirror_mode": {
    "name": "ipython",
    "version": 3
   },
   "file_extension": ".py",
   "mimetype": "text/x-python",
   "name": "python",
   "nbconvert_exporter": "python",
   "pygments_lexer": "ipython3",
   "version": "3.7.5"
  }
 },
 "nbformat": 4,
 "nbformat_minor": 4
}
