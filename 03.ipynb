{
 "cells": [
  {
   "cell_type": "markdown",
   "metadata": {},
   "source": [
    "# Part 1"
   ]
  },
  {
   "cell_type": "code",
   "execution_count": 31,
   "metadata": {},
   "outputs": [],
   "source": [
    "import util\n",
    "from collections import defaultdict, namedtuple"
   ]
  },
  {
   "cell_type": "code",
   "execution_count": 63,
   "metadata": {},
   "outputs": [],
   "source": [
    "dirs = {\n",
    "    \"^\": P(0,-1),\n",
    "    \">\": P(1, 0),\n",
    "    \"v\": P(0, 1),\n",
    "    \"<\": P(-1, 0)\n",
    "}\n",
    "\n",
    "class P(namedtuple('P', ('x', 'y'))):\n",
    "    def __add__(self, o):\n",
    "        return P(self.x + o[0], self.y+o[1])"
   ]
  },
  {
   "cell_type": "code",
   "execution_count": 64,
   "metadata": {},
   "outputs": [
    {
     "data": {
      "text/plain": [
       "2592"
      ]
     },
     "execution_count": 64,
     "metadata": {},
     "output_type": "execute_result"
    }
   ],
   "source": [
    "houses = defaultdict(bool)\n",
    "pos =  P(0,0)\n",
    "for d in util.get_puzzle(3):\n",
    "    houses[pos] = True\n",
    "    pos = pos + dirs[d]\n",
    "    \n",
    "len(houses)"
   ]
  },
  {
   "cell_type": "markdown",
   "metadata": {},
   "source": [
    "# Part 2"
   ]
  },
  {
   "cell_type": "code",
   "execution_count": 65,
   "metadata": {},
   "outputs": [
    {
     "data": {
      "text/plain": [
       "2360"
      ]
     },
     "execution_count": 65,
     "metadata": {},
     "output_type": "execute_result"
    }
   ],
   "source": [
    "houses = defaultdict(bool)\n",
    "pos = [P(0,0), P(0,0)]\n",
    "robo = 0\n",
    "for d in util.get_puzzle(3):\n",
    "    houses[pos[robo]] = True\n",
    "    pos[robo] = pos[robo] + dirs[d]\n",
    "    robo = (robo +1) %2\n",
    "    \n",
    "len(houses)"
   ]
  }
 ],
 "metadata": {
  "kernelspec": {
   "display_name": "Python 3",
   "language": "python",
   "name": "python3"
  },
  "language_info": {
   "codemirror_mode": {
    "name": "ipython",
    "version": 3
   },
   "file_extension": ".py",
   "mimetype": "text/x-python",
   "name": "python",
   "nbconvert_exporter": "python",
   "pygments_lexer": "ipython3",
   "version": "3.7.5"
  }
 },
 "nbformat": 4,
 "nbformat_minor": 4
}
