{
 "cells": [
  {
   "cell_type": "code",
   "execution_count": 5,
   "metadata": {},
   "outputs": [],
   "source": [
    "%run util.ipynb"
   ]
  },
  {
   "cell_type": "markdown",
   "metadata": {},
   "source": [
    "# Part 1"
   ]
  },
  {
   "cell_type": "code",
   "execution_count": 257,
   "metadata": {},
   "outputs": [],
   "source": [
    "gate = re.compile(r\"[A-Z]+\")\n",
    "ops = {\n",
    "    \"AND\": lambda a,b: (a&b)%65536,\n",
    "    \"OR\": lambda a,b: (a|b)%65536,\n",
    "    \"LSHIFT\": lambda a,b: (a<<b)%65536,\n",
    "    \"RSHIFT\": lambda a,b: (a>>b)%65536,\n",
    "    \"NOT\": lambda a: (~a)%65536\n",
    "}"
   ]
  },
  {
   "cell_type": "code",
   "execution_count": 224,
   "metadata": {},
   "outputs": [],
   "source": [
    "text = \"\"\"123 -> x\n",
    "456 -> y\n",
    "x AND y -> d\n",
    "x OR y -> e\n",
    "x LSHIFT 2 -> f\n",
    "y RSHIFT 2 -> g\n",
    "NOT x -> h\n",
    "NOT y -> i\"\"\".split('\\n')"
   ]
  },
  {
   "cell_type": "code",
   "execution_count": 246,
   "metadata": {},
   "outputs": [],
   "source": [
    "text = get_puzzle(7)"
   ]
  },
  {
   "cell_type": "code",
   "execution_count": 248,
   "metadata": {},
   "outputs": [],
   "source": [
    "class Gate():\n",
    "    def __init__(self):\n",
    "        self.op = \"\"\n",
    "        self.inp = [None, None]\n",
    "        self._out = None\n",
    "        \n",
    "    def __repr__(self):\n",
    "        return f\"Gate: {self.op}\"\n",
    "\n",
    "    @property\n",
    "    def out(self):\n",
    "        if self._out is None:\n",
    "            self._out = self._run()\n",
    "        return self._out\n",
    "    @out.setter\n",
    "    def out(self, value):\n",
    "        self._out = value\n",
    "\n",
    "    def connect(self, pos, gate):\n",
    "        self.inp[pos] = gate\n",
    "    def _run(self):\n",
    "        if self.op == \"NOT\":\n",
    "            res = ops[self.op](self.inp[0].out)\n",
    "        else:\n",
    "            res = ops[self.op](self.inp[0].out, self.inp[1].out)\n",
    "        return res\n"
   ]
  },
  {
   "cell_type": "code",
   "execution_count": 259,
   "metadata": {},
   "outputs": [],
   "source": [
    "wires = defaultdict(Gate)\n",
    "for t in text:\n",
    "    op = gate.search(t)\n",
    "    split = t.split(' ')\n",
    "    g = wires[split[-1]]\n",
    "    if op is None:\n",
    "        try:\n",
    "            d = int(split[0])\n",
    "            g.out = d\n",
    "        except ValueError:\n",
    "            wires[split[-1]] = wires[split[0]]\n",
    "    else:\n",
    "        op = op.group()\n",
    "        g.op = op\n",
    "        if op == \"NOT\":\n",
    "            g.connect(0, wires[split[1]])\n",
    "        else:\n",
    "            if \"SHIFT\" in op:\n",
    "                g2 = wires[split[2]]\n",
    "                g2.out = int(split[2])\n",
    "\n",
    "            g.connect(0, wires[split[0]])\n",
    "            g.connect(1, wires[split[2]])"
   ]
  },
  {
   "cell_type": "code",
   "execution_count": 260,
   "metadata": {},
   "outputs": [
    {
     "data": {
      "text/plain": [
       "16076"
      ]
     },
     "execution_count": 260,
     "metadata": {},
     "output_type": "execute_result"
    }
   ],
   "source": [
    "result_one = wires['a'].out\n",
    "result_one"
   ]
  },
  {
   "cell_type": "markdown",
   "metadata": {},
   "source": [
    "# Part 2"
   ]
  },
  {
   "cell_type": "code",
   "execution_count": 261,
   "metadata": {},
   "outputs": [],
   "source": [
    "wires = defaultdict(Gate)\n",
    "for t in text:\n",
    "    op = gate.search(t)\n",
    "    split = t.split(' ')\n",
    "    g = wires[split[-1]]\n",
    "    if op is None:\n",
    "        try:\n",
    "            d = int(split[0])\n",
    "            g.out = d\n",
    "        except ValueError:\n",
    "            wires[split[-1]] = wires[split[0]]\n",
    "    else:\n",
    "        op = op.group()\n",
    "        g.op = op\n",
    "        if op == \"NOT\":\n",
    "            g.connect(0, wires[split[1]])\n",
    "        else:\n",
    "            if \"SHIFT\" in op:\n",
    "                g2 = wires[split[2]]\n",
    "                g2.out = int(split[2])\n",
    "\n",
    "            g.connect(0, wires[split[0]])\n",
    "            g.connect(1, wires[split[2]])"
   ]
  },
  {
   "cell_type": "code",
   "execution_count": 262,
   "metadata": {},
   "outputs": [
    {
     "data": {
      "text/plain": [
       "2797"
      ]
     },
     "execution_count": 262,
     "metadata": {},
     "output_type": "execute_result"
    }
   ],
   "source": [
    "wires['b']._out = result_one\n",
    "wires['a'].out"
   ]
  },
  {
   "cell_type": "code",
   "execution_count": null,
   "metadata": {},
   "outputs": [],
   "source": []
  }
 ],
 "metadata": {
  "kernelspec": {
   "display_name": "Python 3",
   "language": "python",
   "name": "python3"
  },
  "language_info": {
   "codemirror_mode": {
    "name": "ipython",
    "version": 3
   },
   "file_extension": ".py",
   "mimetype": "text/x-python",
   "name": "python",
   "nbconvert_exporter": "python",
   "pygments_lexer": "ipython3",
   "version": "3.7.5"
  }
 },
 "nbformat": 4,
 "nbformat_minor": 4
}
