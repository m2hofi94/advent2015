{
 "cells": [
  {
   "cell_type": "code",
   "execution_count": 1,
   "metadata": {},
   "outputs": [],
   "source": [
    "%run util.ipynb"
   ]
  },
  {
   "cell_type": "code",
   "execution_count": 175,
   "metadata": {},
   "outputs": [],
   "source": [
    "letters=re.compile(r\"(i|o|l)\")\n",
    "pairs = re.compile(r\"(\\w)\\1\")\n",
    "def valid_pw(pw, digits):\n",
    "    return bool(\n",
    "        letters.search(pw) is None and\n",
    "        len(pairs.findall(pw)) >= 2 and \n",
    "        any(c-b==b-a==1 for a,b,c in zip(digits, digits[1:], digits[2:]))\n",
    "    )"
   ]
  },
  {
   "cell_type": "code",
   "execution_count": 177,
   "metadata": {},
   "outputs": [],
   "source": [
    "def inc(n):\n",
    "    res = n+1\n",
    "    if res > 122:\n",
    "        return res-26,True\n",
    "    return res,False\n",
    "def next_pw(digits):\n",
    "    over = True\n",
    "    for i in range(7,-1,-1):\n",
    "        if over:\n",
    "            digits[i], over = inc(digits[i])\n",
    "            if digits[i] in (105, 111, 108):\n",
    "                 digits[i], over = inc(digits[i])\n",
    "\n",
    "        else:\n",
    "            break\n",
    "    return digits"
   ]
  },
  {
   "cell_type": "code",
   "execution_count": 178,
   "metadata": {},
   "outputs": [
    {
     "data": {
      "text/plain": [
       "'hepxxyzz'"
      ]
     },
     "execution_count": 178,
     "metadata": {},
     "output_type": "execute_result"
    }
   ],
   "source": [
    "start = \"hepxcrrq\"\n",
    "digits = list(map(ord,start))\n",
    "pw = \"\"\n",
    "while True:\n",
    "    digits = next_pw(digits)\n",
    "    pw = \"\".join(list(map(chr,digits)))\n",
    "    if valid_pw(pw, digits):\n",
    "        break\n",
    "        \n",
    "one = pw\n",
    "one"
   ]
  },
  {
   "cell_type": "markdown",
   "metadata": {},
   "source": [
    "# Part 2"
   ]
  },
  {
   "cell_type": "code",
   "execution_count": 179,
   "metadata": {},
   "outputs": [
    {
     "data": {
      "text/plain": [
       "'heqaabcc'"
      ]
     },
     "execution_count": 179,
     "metadata": {},
     "output_type": "execute_result"
    }
   ],
   "source": [
    "start = one\n",
    "digits = list(map(ord,start))\n",
    "pw = \"\"\n",
    "while True:\n",
    "    digits = next_pw(digits)\n",
    "    pw = \"\".join(list(map(chr,digits)))\n",
    "    if valid_pw(pw, digits):\n",
    "        break\n",
    "        \n",
    "pw"
   ]
  },
  {
   "cell_type": "code",
   "execution_count": null,
   "metadata": {},
   "outputs": [],
   "source": []
  }
 ],
 "metadata": {
  "kernelspec": {
   "display_name": "Python 3",
   "language": "python",
   "name": "python3"
  },
  "language_info": {
   "codemirror_mode": {
    "name": "ipython",
    "version": 3
   },
   "file_extension": ".py",
   "mimetype": "text/x-python",
   "name": "python",
   "nbconvert_exporter": "python",
   "pygments_lexer": "ipython3",
   "version": "3.7.5"
  }
 },
 "nbformat": 4,
 "nbformat_minor": 4
}
